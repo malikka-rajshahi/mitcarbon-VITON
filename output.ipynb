{
 "cells": [
  {
   "cell_type": "markdown",
   "metadata": {},
   "source": [
    "# Open Pose, Dense Pose\n",
    "<img src=\"./SD-VITON/dataroot/test/openpose_img/00006_00_rendered.jpg\" alt=\"isolated\" width=\"240\"/>\n",
    "<img src=\"./SD-VITON/dataroot/test/image-densepose/outputres.0001.png\" alt=\"isolated\" width=\"240\"/>"
   ]
  },
  {
   "cell_type": "markdown",
   "metadata": {},
   "source": [
    "# Human Parse\n",
    "<img src=\"./CIHP_PGN/datasets/output/cihp_edge_maps/00006_00.png\" alt=\"isolated\" width=\"240\"/>\n",
    "<img src=\"./CIHP_PGN/datasets/output/cihp_parsing_maps/00006_00_vis.png\" alt=\"isolated\" width=\"240\"/>\n",
    "<img src=\"./CIHP_PGN/datasets/output/cihp_parsing_maps/00006_00.png\" alt=\"isolated\" width=\"240\"/>"
   ]
  },
  {
   "cell_type": "markdown",
   "metadata": {},
   "source": [
    "# Parse Agnostic, Image Agnostic\n",
    "<img src=\"./SD-VITON/dataroot/test/parse_agnostic/00006_00.png\" alt=\"isolated\" width=\"240\"/>\n",
    "<img src=\"./SD-VITON/dataroot/test/image_agnostic/00006_00.jpg\" alt=\"isolated\" width=\"240\"/>"
   ]
  }
 ],
 "metadata": {
  "language_info": {
   "name": "python"
  }
 },
 "nbformat": 4,
 "nbformat_minor": 2
}
